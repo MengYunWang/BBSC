{
 "cells": [
  {
   "cell_type": "code",
   "execution_count": null,
   "id": "44e9ee5d",
   "metadata": {},
   "outputs": [],
   "source": [
    "# import the modules\n",
    "import os\n",
    "from nilearn import datasets \n",
    "from nilearn import plotting as nplot\n",
    "from nilearn import image as nimg\n",
    "from nilearn.maskers import NiftiLabelsMasker\n",
    "from nilearn.connectome import ConnectivityMeasure\n",
    "from nilearn.interfaces.fmriprep import load_confounds\n",
    "import nibabel as nib\n",
    "import numpy as np\n",
    "import pandas as pd\n",
    "import bids\n",
    "import matplotlib.pyplot as plt"
   ]
  },
  {
   "cell_type": "code",
   "execution_count": null,
   "id": "74e68919",
   "metadata": {},
   "outputs": [],
   "source": [
    "# change to working dir\n",
    "data_dir ='/Users/wang/Desktop/Research_projects/BBSC/Functional/Parcellation/data/cleaned_data'\n",
    "os.chdir(data_dir)"
   ]
  },
  {
   "cell_type": "code",
   "execution_count": null,
   "id": "52c1cdf0",
   "metadata": {
    "scrolled": true
   },
   "outputs": [],
   "source": [
    "# extract the data form the atlas, sub3 was excluded because head movement\n",
    "indi_parc = '/Users/wang/Desktop/Research_projects/BBSC/Functional/Parcellation/1_generate_profiles_and_ini_params/group/sub01indi_network.nii.gz'\n",
    "\n",
    "import glob\n",
    "sub_list = ['sub-01']\n",
    "masker = NiftiLabelsMasker(labels_img=indi_parc,verbose=3)\n",
    "all_data = []\n",
    "\n",
    "for subi,sub_name in enumerate(sub_list):\n",
    "    data_path = glob.glob('./'+ sub_name + '/*.nii.gz')\n",
    "    data_path = sorted(data_path)\n",
    "    all_ses_data = []\n",
    "    \n",
    "    for datai, data_name in enumerate(data_path):\n",
    "        time_series = masker.fit_transform (data_name)\n",
    "        all_ses_data.append(time_series)\n",
    "\n",
    "    all_data.append (all_ses_data)    \n",
    "    \n",
    "print(len(all_ses_data))    \n",
    "print(len(all_data))   "
   ]
  },
  {
   "cell_type": "code",
   "execution_count": null,
   "id": "c7eb368e",
   "metadata": {},
   "outputs": [],
   "source": [
    "#--------- extract the data, here compute the data from subject 2\n",
    "sub_data = all_data[0]\n",
    "sub_all_data = np.array(sub_data)\n",
    "\n",
    "session2delete = [10,13] # session 11 and 14 were deleted because sleep for sub1\n",
    "# session2delete = [9,11,12,13,14,19,21,22,27,29,34,37] # sessions 10,12-15,20,22,23,28,30,35,38 were deleted for sub2\n",
    "sub_all_data = np.delete(sub_all_data, session2delete, axis=0) # session * fmri_data * networks\n",
    "\n",
    "# sub_all_data [session2delet,:,:] = np.nan\n",
    "sub_all_data_avg = np.nanmean(sub_all_data, axis=0)\n",
    "# sub_all_data [session2delet,:,:] = 0"
   ]
  },
  {
   "cell_type": "code",
   "execution_count": null,
   "id": "a696ef0d",
   "metadata": {},
   "outputs": [],
   "source": [
    "sub_all_data.shape"
   ]
  },
  {
   "cell_type": "code",
   "execution_count": null,
   "id": "01f62124",
   "metadata": {},
   "outputs": [],
   "source": [
    "# plot the first network time course in the first session\n",
    "import seaborn as sns\n",
    "data2plot = pd.DataFrame(\n",
    "                        {\"Session1\":np.squeeze(sub_all_data[0,:,0]),\n",
    "                        \"Session_avg\":sub_all_data_avg[:,0]}\n",
    "                        )\n",
    "sns.lineplot(data=data2plot[['Session1','Session_avg']])"
   ]
  },
  {
   "cell_type": "code",
   "execution_count": null,
   "id": "9a4d38de",
   "metadata": {},
   "outputs": [],
   "source": [
    "# compute the inter session variablity for different networks\n",
    "correlation_measure = ConnectivityMeasure(kind='correlation')\n",
    "\n",
    "labels=np.arange(1, 38+1).tolist() # for sub1\n",
    "# labels=np.arange(1, 40+1).tolist()   # for sub2\n",
    "\n",
    "labels=np.delete(labels, session2delete) \n",
    "\n",
    "net_corr = []\n",
    "\n",
    "\n",
    "\n",
    "for neti in range(sub_all_data.shape[2]):\n",
    "    \n",
    "    net_time_series = np.transpose(np.squeeze(sub_all_data[:,:,neti]))\n",
    "\n",
    "    #correlation_matrix = np.corrcoef(net_time_series, rowvar=False)\n",
    "    correlation_matrix = correlation_measure.fit_transform([net_time_series])[0]\n",
    "    np.fill_diagonal(correlation_matrix, 0)\n",
    "    nplot.plot_matrix(correlation_matrix, figure=(5, 5), labels=labels,\n",
    "                     vmax=0.2, vmin=-0.2, title=None,\n",
    "                     reorder=False)\n",
    "    plt.savefig('/Users/wang/Desktop/UiB/Manuscripts/BBSC/Long_night/figures/' + f'Network_{neti+1}.tiff', dpi=300)\n",
    "    plt.close()"
   ]
  },
  {
   "cell_type": "code",
   "execution_count": null,
   "id": "0cd64c6e",
   "metadata": {},
   "outputs": [],
   "source": [
    "# compute the correlaiton between each session and session average\n",
    "ses_corr = []\n",
    "for sesi in range(sub_all_data.shape[0]):\n",
    "    df1 = pd.DataFrame(np.squeeze(sub_all_data[sesi,:,:]))\n",
    "    df2 = pd.DataFrame(sub_all_data_avg)\n",
    "    df_corr = df1.corrwith(df2)\n",
    "    ses_corr.append(df_corr)\n",
    "ses_corr = np.array(ses_corr)"
   ]
  },
  {
   "cell_type": "code",
   "execution_count": null,
   "id": "94b988dc",
   "metadata": {},
   "outputs": [],
   "source": [
    "# plot the correlation between sessions and average for each network\n",
    "import seaborn as sns\n",
    "corr_map=pd.DataFrame(ses_corr,columns=['Visual', 'Somatomotor', 'Dorsal Attention',\n",
    "                                        'Salience / Ventral Attention',\n",
    "                                        'Limbic','Control','Default'])\n",
    "\n",
    "network_colors = {\n",
    "    'Visual': (120, 18, 134),\n",
    "    'Somatomotor': (70, 130, 180),\n",
    "    'Dorsal Attention': (0, 118, 14),\n",
    "    'Salience': (196, 58, 250),\n",
    "    'Limbic': (220, 248, 164),\n",
    "    'Control': (230, 148, 34),\n",
    "    'Default': (205, 62, 78),\n",
    "}\n",
    "\n",
    "# Assuming corr_map is your data for the violin plot\n",
    "\n",
    "# Convert RGB values to normalized [0, 1] range\n",
    "normalized_colors = [(r / 255, g / 255, b / 255) for r, g, b in network_colors.values()]\n",
    "\n",
    "#plt.figure(figsize=(3, 3))\n",
    "network_plots = sns.violinplot(corr_map, palette=normalized_colors)\n",
    "network_plots.set_xticklabels(network_plots.get_xticklabels(), rotation=45, ha='right')\n",
    "plt.yticks([-0.2, 0, 0.2, 0.4, 0.6])\n",
    "plt.ylim(-0.25, 0.65)\n",
    "\n",
    "plt.savefig('/Users/wang/Desktop/UiB/Manuscripts/BBSC/Long_night/figures/Network_corr.tiff', dpi=300)\n",
    "plt.show()"
   ]
  },
  {
   "cell_type": "code",
   "execution_count": null,
   "id": "9cad4863",
   "metadata": {},
   "outputs": [],
   "source": []
  }
 ],
 "metadata": {
  "kernelspec": {
   "display_name": "Python 3 (ipykernel)",
   "language": "python",
   "name": "python3"
  },
  "language_info": {
   "codemirror_mode": {
    "name": "ipython",
    "version": 3
   },
   "file_extension": ".py",
   "mimetype": "text/x-python",
   "name": "python",
   "nbconvert_exporter": "python",
   "pygments_lexer": "ipython3",
   "version": "3.9.12"
  }
 },
 "nbformat": 4,
 "nbformat_minor": 5
}
